{
 "cells": [
  {
   "cell_type": "code",
   "execution_count": 1,
   "metadata": {
    "collapsed": true
   },
   "outputs": [],
   "source": [
    "import os\n",
    "import sys\n",
    "import codecs"
   ]
  },
  {
   "cell_type": "code",
   "execution_count": 2,
   "metadata": {
    "collapsed": true
   },
   "outputs": [],
   "source": [
    "path_to_alignments = '/usr1/home/ssandeep/corpora/aligned.grow-diag-final-and.from_all'\n",
    "path_to_en = '/usr1/home/ssandeep/corpora/news-commentary-v8.fr-en.clean.en'\n",
    "path_to_fr = '/usr1/home/ssandeep/corpora/news-commentary-v8.fr-en.clean.fr'"
   ]
  },
  {
   "cell_type": "code",
   "execution_count": 3,
   "metadata": {
    "collapsed": true
   },
   "outputs": [],
   "source": [
    "alignments = [line.strip().split() for line in open(path_to_alignments, 'r')]\n",
    "english_sents = [line.strip().split() for line in codecs.open(path_to_en, 'r', encoding='utf8')]\n",
    "french_sents = [line.strip().split() for line in codecs.open(path_to_fr, 'r', encoding='utf8')]"
   ]
  },
  {
   "cell_type": "code",
   "execution_count": 4,
   "metadata": {
    "collapsed": false
   },
   "outputs": [],
   "source": [
    "assert len(alignments) == len(english_sents) == len(french_sents)"
   ]
  },
  {
   "cell_type": "code",
   "execution_count": 5,
   "metadata": {
    "collapsed": false
   },
   "outputs": [],
   "source": [
    "def parse_alignment(alignment):\n",
    "    forward_alignment = {}\n",
    "    backward_alignment = {}\n",
    "    for alignment_pair in alignment:\n",
    "        alignment_pair = [int(x) for x in alignment_pair.split('-')]\n",
    "        if alignment_pair[0] not in forward_alignment:\n",
    "            forward_alignment[alignment_pair[0]] = [alignment_pair[1]]\n",
    "        else:\n",
    "            forward_alignment[alignment_pair[0]].append(alignment_pair[1])\n",
    "        if alignment_pair[1] not in backward_alignment:\n",
    "            backward_alignment[alignment_pair[1]] = [alignment_pair[0]]\n",
    "        else:\n",
    "            backward_alignment[alignment_pair[1]].append(alignment_pair[0])\n",
    "    return forward_alignment, backward_alignment"
   ]
  },
  {
   "cell_type": "code",
   "execution_count": 6,
   "metadata": {
    "collapsed": true
   },
   "outputs": [],
   "source": [
    "def get_not_in_target(alignment):\n",
    "    targets = [int(x.split('-')[0]) for x in alignment]\n",
    "    return set(range(max(targets))) - set(targets)"
   ]
  },
  {
   "cell_type": "code",
   "execution_count": 12,
   "metadata": {
    "collapsed": false
   },
   "outputs": [
    {
     "name": "stdout",
     "output_type": "stream",
     "text": [
      "Finished 0 out of 155362 \n",
      "0  | San                  | T  | San                            | San                            | 0 -> 0     \n",
      "1  | FRANCISCO            | T  | FRANCISCO                      | FRANCISCO                      | 1 -> 1     \n",
      "2  | –                    | S  | –                              | NULL                           | 2, 5 -> 2 4 5  \n",
      "3  | It                   | T  | – It                           | – Il n ’                       | 2 -> 5     \n",
      "4  | has                  | T  | has                            | a                              | 6 -> 6     \n",
      "5  | never                | T  | never                          | jamais                         | 7 -> 7     \n",
      "6  | been                 | T  | been                           | été                            | 8 -> 8     \n",
      "7  | easy                 | T  | easy                           | facile                         | 9 -> 9     \n",
      "8  | to                   | T  | to                             | d                              | 10 -> 10   \n",
      "9  | have                 | T  | have                           | ’ avoir                        | 11 -> 12   \n",
      "10 | a                    | T  | a                              | une                            | 13 -> 13   \n",
      "11 | rational             | S  | rational                       | NULL                           | 14, 15 -> 15  \n",
      "12 | conversation         | T  | rational conversation          | discussion rationnelle         | 14 -> 15   \n",
      "13 | about                | T  | about                          | sur                            | 16 -> 16   \n",
      "14 | the                  | T  | the                            | la                             | 17 -> 17   \n",
      "15 | value                | T  | value                          | valeur                         | 18 -> 18   \n",
      "16 | of                   | T  | of                             | du                             | 19 -> 19   \n",
      "17 | gold                 | T  | gold                           | métal jaune                    | 20 -> 21   \n",
      "18 | .                    | T  | .                              | .                              | 22 -> 22   \n",
      "===============================================================================================\n",
      "0  | lately               | S  | lately                         | NULL                           | 0, 3 -> 3   \n",
      "1  | ,                    | S  | lately ,                       | NULL                           | 0, 4 -> 3 4  \n",
      "2  | with                 | T  | lately , with                  | et aujourd ’ hui ,             | 0 -> 4     \n",
      "3  | gold                 | S  | gold                           | NULL                           | 5, 12 -> 12  \n",
      "4  | prices               | T  | gold prices                    | alors que le cours de l ’ or   | 5 -> 12    \n",
      "5  | up                   | T  | up                             | a augmenté                     | 13 -> 14   \n",
      "6  | more                 | NS | more                           | NULL                           \n",
      "7  | than                 | T  | more than                      | de 300                         | 15 -> 16   \n",
      "8  | 300                  | T  | 300                            |                                | 17 -> 16   \n",
      "9  | %                    | T  | %                              | pour cent                      | 17 -> 18   \n",
      "10 | over                 | T  | over                           | au cours                       | 19 -> 20   \n",
      "11 | the                  | T  | the                            | de la                          | 21 -> 22   \n",
      "12 | last                 | T  | last                           | dernière                       | 23 -> 23   \n",
      "13 | decade               | T  | decade                         | décennie                       | 24 -> 24   \n",
      "14 | ,                    | T  | ,                              | ,                              | 25 -> 25   \n",
      "15 | it                   | S  | it                             | NULL                           | 26, 28 -> 28  \n",
      "16 | is                   | T  | it is                          | c ’ est                        | 26 -> 28   \n",
      "17 | harder               | T  | harder                         | plus difficile                 | 29 -> 30   \n",
      "18 | than                 | T  | than                           | que                            | 31 -> 31   \n",
      "19 | ever                 | T  | ever                           | jamais                         | 32 -> 32   \n",
      "20 | .                    | T  | .                              | .                              | 33 -> 33   \n",
      "===============================================================================================\n",
      "0  | just                 | NS | just                           | NULL                           \n",
      "1  | last                 | S  | just last                      | NULL                           | 0, 2 -> 0 2  \n",
      "2  | December             | T  | just last December             | en décembre dernier            | 0 -> 2     \n",
      "3  | ,                    | T  | ,                              | ,                              | 3 -> 3     \n",
      "4  | fellow               | T  | fellow                         | mes collègues                  | 4 -> 5     \n",
      "5  | economists           | T  | economists                     | économistes                    | 6 -> 6     \n",
      "6  | Martin               | T  | Martin                         | Martin                         | 7 -> 7     \n",
      "7  | Feldstein            | T  | Feldstein                      | Feldstein                      | 8 -> 8     \n",
      "8  | and                  | T  | and                            | et                             | 9 -> 9     \n",
      "9  | Nouriel              | T  | Nouriel                        | Nouriel Roubini                | 10 -> 11   \n",
      "10 | Roubini              | T  | Roubini                        |                                | 12 -> 11   \n",
      "11 | each                 | S  | each                           | NULL                           | 12, 13 -> 13  \n",
      "12 | penned               | T  | each penned                    | ont chacun                     | 12 -> 13   \n",
      "13 | op-eds               | T  | op-eds                         | publié une tribune libre dans  | 14 -> 18   \n",
      "14 | bravely              | S  | bravely                        | NULL                           | 19, 22 -> 22  \n",
      "15 | questioning          | T  | bravely questioning            | laquelle ils doutaient courageusement | 19 -> 22   \n",
      "16 | bullish              | S  | bullish                        | NULL                           | 23, 25 -> 25  \n",
      "17 | market               | T  | bullish market                 | du marché haussier             | 23 -> 25   \n",
      "18 | sentiment            | T  | sentiment                      |                                | 26 -> 25   \n",
      "19 | ,                    | T  | ,                              | ,                              | 26 -> 26   \n",
      "20 | sensibly             | S  | sensibly                       | NULL                           | 27, 30 -> 29 30  \n",
      "21 | pointing             | T  | sensibly pointing              | soulignant de manière sensée   | 27 -> 30   \n",
      "22 | out                  | T  | out                            | les                            | 31 -> 31   \n",
      "23 | gold                 | S  | gold                           | NULL                           | 32, 37 -> 37  \n",
      "24 | ’                    | S  | gold ’                         | NULL                           | 32, 37 -> 36 37  \n",
      "25 | s                    | S  | gold ’ s                       | NULL                           | 32, 37 -> 35 36 37  \n",
      "26 | risks                | T  | gold ’ s risks                 | risques liés à l ’ or          | 32 -> 37   \n",
      "27 | .                    | T  | .                              | .                              | 38 -> 38   \n",
      "===============================================================================================\n",
      "0  | wouldn               | T  | wouldn                         | mais devinez ce                | 0 -> 2     \n",
      "1  | ’                    | S  | ’                              | NULL                           | 3, 5 -> 5   \n",
      "2  | t                    | T  | ’ t                            | qui s ’                        | 3 -> 5     \n",
      "3  | you                  | NS | you                            | NULL                           \n",
      "4  | know                 | T  | you know                       | est                            | 6 -> 6     \n",
      "5  | it                   | T  | it                             |                                | 7 -> 6     \n",
      "6  | ?                    | T  | ?                              | passé ?                        | 7 -> 8     \n",
      "===============================================================================================\n",
      "0  | since                | T  | since                          | depuis                         | 0 -> 0     \n",
      "1  | their                | S  | their                          | NULL                           | 1, 4 -> 4   \n",
      "2  | articles             | S  | their articles                 | NULL                           | 1, 5 -> 4 5  \n",
      "3  | appeared             | T  | their articles appeared        | la parution de leurs articles  | 1 -> 5     \n",
      "4  | ,                    | T  | ,                              | ,                              | 6 -> 6     \n",
      "5  | the                  | T  | the                            | le                             | 7 -> 7     \n",
      "6  | price                | T  | price                          | cours                          | 8 -> 8     \n",
      "7  | of                   | T  | of                             | de l                           | 9 -> 10    \n",
      "8  | gold                 | S  | gold                           | NULL                           | 11, 12 -> 12  \n",
      "9  | has                  | T  | gold has                       | ’ or a                         | 11 -> 13   \n",
      "10 | moved                | S  | moved                          | NULL                           | 14, 15 -> 15  \n",
      "11 | up                   | S  | moved up                       | NULL                           | 14, 15 -> 15  \n",
      "12 | still                | T  | moved up still                 | encore grimpé                  | 14 -> 15   \n",
      "13 | further              | T  | further                        |                                | 16 -> 14   \n",
      "14 | .                    | NS | .                              | NULL                           \n",
      "15 | gold                 | NS | . gold                         | NULL                           \n",
      "16 | prices               | NS | . gold prices                  | NULL                           \n",
      "17 | even                 | NS | . gold prices even             | NULL                           \n",
      "18 | hit                  | T  | . gold prices even hit         | , pour atteindre               | 16 -> 18   \n",
      "19 | a                    | S  | a                              | NULL                           | 19, 20 -> 20  \n",
      "20 | record-high          | S  | a record-high                  | NULL                           | 19, 25 -> 25 20  \n",
      "21 | $                    | S  | a record-high $                | NULL                           | 19, 26 -> 25 26 20  \n",
      "22 | 1,300                | S  | a record-high $ 1,300          | NULL                           | 19, 26 -> 25 26 20  \n",
      "23 | recently             | T  | a record-high $ 1,300 recently | récemment un plus haut historique de 1300 dollars | 19 -> 26   \n",
      "24 | .                    | T  | .                              | l ’ once .                     | 27 -> 30   \n",
      "===============================================================================================\n"
     ]
    }
   ],
   "source": [
    "#print '==============================================================================================='\n",
    "actions = []\n",
    "for ind, (alignment, english_sent, french_sent) in enumerate(zip(alignments, english_sents, french_sents)[:5]):\n",
    "    \n",
    "    if ind % 1000 == 0:\n",
    "        print 'Finished %d out of %d ' %(ind, len(english_sents))\n",
    "    indices = set()\n",
    "    backward_alignment, forward_alignment = parse_alignment(alignment)\n",
    "    not_in_target = get_not_in_target(alignment)\n",
    "    target_start = 0\n",
    "    source_start = 0\n",
    "    actionset = []\n",
    "    \n",
    "    for ind, word in enumerate(english_sent):\n",
    "        \n",
    "        # If word in source doesn't have an alignment, SHIFT\n",
    "        if ind not in forward_alignment:\n",
    "            print u'{: <2} | {: <20} | {: <2} | {: <30} | {: <30} '.format(ind, word, 'NS', ' '.join(english_sent[source_start:ind+1]), 'NULL')\n",
    "            actionset.append([word, 'S', english_sent[source_start:ind+1], ''])\n",
    "            continue\n",
    "        \n",
    "        # Add all the alignments for this word to indices\n",
    "        for item in forward_alignment[ind]:\n",
    "            indices.add(item)\n",
    "        action = 'T'\n",
    "        max_ind = max(indices)\n",
    "        \n",
    "        # Check if all target indices of the max spanning source block alignment are contained if not, SHIFT\n",
    "        for i in range(target_start, max_ind):\n",
    "            if i in not_in_target:\n",
    "                continue\n",
    "            if i not in indices:\n",
    "                action = 'S'\n",
    "                break\n",
    "        \n",
    "        # Write the SHIFT action to the actionset\n",
    "        if action == 'S':\n",
    "            print u'{: <2} | {: <20} | {: <2} | {: <30} | {: <30} | {: <10}  '.format(ind, word, action, ' '.join(english_sent[source_start:ind+1]), 'NULL', str(target_start) + ', ' + str(max_ind) + ' -> ' + ' '.join([str(x) for x in indices]))\n",
    "            actionset.append([word, action, english_sent[source_start:ind+1], ''])\n",
    "        \n",
    "        # Write the TRANSLATE action to the actionset\n",
    "        elif action == 'T':\n",
    "            translation = french_sent[target_start:max_ind+1]\n",
    "            curr_phrase_block = english_sent[source_start:ind+1]\n",
    "            print u'{: <2} | {: <20} | {: <2} | {: <30} | {: <30} | {: <10} '.format(ind, word, action, ' '.join(curr_phrase_block), ' '.join(translation), str(target_start)  + ' -> ' + str(max_ind))\n",
    "            actionset.append([word, action, curr_phrase_block, translation])\n",
    "            target_start = max(max_ind + 1, target_start) # Max to handle the case where a word in the source maps backwards in the target\n",
    "            source_start = ind + 1\n",
    "            indices = set()\n",
    "    #print ' '.join(french_sent)\n",
    "    print '==============================================================================================='\n",
    "    actions.append(actionset)"
   ]
  },
  {
   "cell_type": "code",
   "execution_count": null,
   "metadata": {
    "collapsed": true
   },
   "outputs": [],
   "source": []
  }
 ],
 "metadata": {
  "kernelspec": {
   "display_name": "Python 2",
   "language": "python",
   "name": "python2"
  },
  "language_info": {
   "codemirror_mode": {
    "name": "ipython",
    "version": 2
   },
   "file_extension": ".py",
   "mimetype": "text/x-python",
   "name": "python",
   "nbconvert_exporter": "python",
   "pygments_lexer": "ipython2",
   "version": "2.7.11"
  }
 },
 "nbformat": 4,
 "nbformat_minor": 0
}
